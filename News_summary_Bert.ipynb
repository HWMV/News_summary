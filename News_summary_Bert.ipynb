{
  "nbformat": 4,
  "nbformat_minor": 0,
  "metadata": {
    "colab": {
      "provenance": [],
      "gpuType": "T4",
      "authorship_tag": "ABX9TyN5UgaarDMRZszQvYXYcy84",
      "include_colab_link": true
    },
    "kernelspec": {
      "name": "python3",
      "display_name": "Python 3"
    },
    "language_info": {
      "name": "python"
    },
    "accelerator": "GPU"
  },
  "cells": [
    {
      "cell_type": "markdown",
      "metadata": {
        "id": "view-in-github",
        "colab_type": "text"
      },
      "source": [
        "<a href=\"https://colab.research.google.com/github/HWMV/News_summary/blob/main/News_summary_Bert.ipynb\" target=\"_parent\"><img src=\"https://colab.research.google.com/assets/colab-badge.svg\" alt=\"Open In Colab\"/></a>"
      ]
    },
    {
      "cell_type": "markdown",
      "source": [
        "# Transfer learning\n",
        "# Transformers Bert pre-trained model"
      ],
      "metadata": {
        "id": "NmWDo-eQUlWt"
      }
    },
    {
      "cell_type": "code",
      "source": [
        "!pip install transformers"
      ],
      "metadata": {
        "colab": {
          "base_uri": "https://localhost:8080/"
        },
        "id": "InuPSbLZUyoo",
        "outputId": "1eff2c10-f344-488d-cc37-1ecfaa203078"
      },
      "execution_count": 1,
      "outputs": [
        {
          "output_type": "stream",
          "name": "stdout",
          "text": [
            "Collecting transformers\n",
            "  Downloading transformers-4.35.1-py3-none-any.whl (7.9 MB)\n",
            "\u001b[2K     \u001b[90m━━━━━━━━━━━━━━━━━━━━━━━━━━━━━━━━━━━━━━━━\u001b[0m \u001b[32m7.9/7.9 MB\u001b[0m \u001b[31m53.9 MB/s\u001b[0m eta \u001b[36m0:00:00\u001b[0m\n",
            "\u001b[?25hRequirement already satisfied: filelock in /usr/local/lib/python3.10/dist-packages (from transformers) (3.13.1)\n",
            "Collecting huggingface-hub<1.0,>=0.16.4 (from transformers)\n",
            "  Downloading huggingface_hub-0.19.2-py3-none-any.whl (311 kB)\n",
            "\u001b[2K     \u001b[90m━━━━━━━━━━━━━━━━━━━━━━━━━━━━━━━━━━━━━━━━\u001b[0m \u001b[32m311.2/311.2 kB\u001b[0m \u001b[31m39.9 MB/s\u001b[0m eta \u001b[36m0:00:00\u001b[0m\n",
            "\u001b[?25hRequirement already satisfied: numpy>=1.17 in /usr/local/lib/python3.10/dist-packages (from transformers) (1.23.5)\n",
            "Requirement already satisfied: packaging>=20.0 in /usr/local/lib/python3.10/dist-packages (from transformers) (23.2)\n",
            "Requirement already satisfied: pyyaml>=5.1 in /usr/local/lib/python3.10/dist-packages (from transformers) (6.0.1)\n",
            "Requirement already satisfied: regex!=2019.12.17 in /usr/local/lib/python3.10/dist-packages (from transformers) (2023.6.3)\n",
            "Requirement already satisfied: requests in /usr/local/lib/python3.10/dist-packages (from transformers) (2.31.0)\n",
            "Collecting tokenizers<0.15,>=0.14 (from transformers)\n",
            "  Downloading tokenizers-0.14.1-cp310-cp310-manylinux_2_17_x86_64.manylinux2014_x86_64.whl (3.8 MB)\n",
            "\u001b[2K     \u001b[90m━━━━━━━━━━━━━━━━━━━━━━━━━━━━━━━━━━━━━━━━\u001b[0m \u001b[32m3.8/3.8 MB\u001b[0m \u001b[31m72.3 MB/s\u001b[0m eta \u001b[36m0:00:00\u001b[0m\n",
            "\u001b[?25hCollecting safetensors>=0.3.1 (from transformers)\n",
            "  Downloading safetensors-0.4.0-cp310-cp310-manylinux_2_17_x86_64.manylinux2014_x86_64.whl (1.3 MB)\n",
            "\u001b[2K     \u001b[90m━━━━━━━━━━━━━━━━━━━━━━━━━━━━━━━━━━━━━━━━\u001b[0m \u001b[32m1.3/1.3 MB\u001b[0m \u001b[31m91.4 MB/s\u001b[0m eta \u001b[36m0:00:00\u001b[0m\n",
            "\u001b[?25hRequirement already satisfied: tqdm>=4.27 in /usr/local/lib/python3.10/dist-packages (from transformers) (4.66.1)\n",
            "Requirement already satisfied: fsspec>=2023.5.0 in /usr/local/lib/python3.10/dist-packages (from huggingface-hub<1.0,>=0.16.4->transformers) (2023.6.0)\n",
            "Requirement already satisfied: typing-extensions>=3.7.4.3 in /usr/local/lib/python3.10/dist-packages (from huggingface-hub<1.0,>=0.16.4->transformers) (4.5.0)\n",
            "Collecting huggingface-hub<1.0,>=0.16.4 (from transformers)\n",
            "  Downloading huggingface_hub-0.17.3-py3-none-any.whl (295 kB)\n",
            "\u001b[2K     \u001b[90m━━━━━━━━━━━━━━━━━━━━━━━━━━━━━━━━━━━━━━━━\u001b[0m \u001b[32m295.0/295.0 kB\u001b[0m \u001b[31m38.6 MB/s\u001b[0m eta \u001b[36m0:00:00\u001b[0m\n",
            "\u001b[?25hRequirement already satisfied: charset-normalizer<4,>=2 in /usr/local/lib/python3.10/dist-packages (from requests->transformers) (3.3.2)\n",
            "Requirement already satisfied: idna<4,>=2.5 in /usr/local/lib/python3.10/dist-packages (from requests->transformers) (3.4)\n",
            "Requirement already satisfied: urllib3<3,>=1.21.1 in /usr/local/lib/python3.10/dist-packages (from requests->transformers) (2.0.7)\n",
            "Requirement already satisfied: certifi>=2017.4.17 in /usr/local/lib/python3.10/dist-packages (from requests->transformers) (2023.7.22)\n",
            "Installing collected packages: safetensors, huggingface-hub, tokenizers, transformers\n",
            "Successfully installed huggingface-hub-0.17.3 safetensors-0.4.0 tokenizers-0.14.1 transformers-4.35.1\n"
          ]
        }
      ]
    },
    {
      "cell_type": "code",
      "source": [
        "from importlib.metadata import version\n",
        "import nltk\n",
        "import tensorflow\n",
        "import pandas\n",
        "\n",
        "print(nltk.__version__)\n",
        "print(tensorflow.__version__)\n",
        "print(pandas.__version__)"
      ],
      "metadata": {
        "colab": {
          "base_uri": "https://localhost:8080/"
        },
        "id": "LnZ4BHQEUyrO",
        "outputId": "bbc28190-2856-4666-f58b-794049d5e450"
      },
      "execution_count": 7,
      "outputs": [
        {
          "output_type": "stream",
          "name": "stdout",
          "text": [
            "3.8.1\n",
            "2.14.0\n",
            "1.5.3\n"
          ]
        }
      ]
    },
    {
      "cell_type": "code",
      "source": [
        "import urllib.request\n",
        "import pandas as pd\n",
        "\n",
        "# 데이터셋을 다운로드합니다.\n",
        "urllib.request.urlretrieve(\"https://raw.githubusercontent.com/sunnysai12345/News_Summary/master/news_summary_more.csv\", filename=\"news_summary_more.csv\")\n",
        "\n",
        "# 데이터셋을 로드합니다.\n",
        "# 추출적 요약에 사용할 데이터\n",
        "data_test = pd.read_csv('news_summary_more.csv', encoding='iso-8859-1')\n",
        "# 전처리 하여 추상적 요약에 사용할 데이터\n",
        "data = pd.read_csv('news_summary_more.csv', encoding='iso-8859-1')"
      ],
      "metadata": {
        "id": "ABvHUZKvUyuH"
      },
      "execution_count": 8,
      "outputs": []
    },
    {
      "cell_type": "code",
      "source": [
        "# data sample Check\n",
        "data.sample(10)"
      ],
      "metadata": {
        "colab": {
          "base_uri": "https://localhost:8080/",
          "height": 363
        },
        "id": "cBFhpaV7UyyT",
        "outputId": "f0d8aa72-d470-4251-c834-f10bfd7d1f25"
      },
      "execution_count": 9,
      "outputs": [
        {
          "output_type": "execute_result",
          "data": {
            "text/plain": [
              "                                               headlines  \\\n",
              "6956   Salman Khan spoke to me about it: Sunil on wor...   \n",
              "18853  Maharashtra woman held for posing as cop to ex...   \n",
              "50815  Jaya hosts dinner for female nominees, winners...   \n",
              "18806  Tanushree Dutta, sister Ishita to be in Bigg B...   \n",
              "43056  DMK chief Stalin asks TN govt to stop VHP's Ra...   \n",
              "18684  Writer's imagination must enjoy freedom: SC sa...   \n",
              "46538  Student expelled after parents ask for time to...   \n",
              "47830  Chahal shares 'bromance' pic with Kuldeep on V...   \n",
              "50400  Govt saved Ã¢ÂÂ¹65,000 crore through DBT sche...   \n",
              "38121  Were made to undergo pregnancy test: MP police...   \n",
              "\n",
              "                                                    text  \n",
              "6956   Sunil Grover has said that Salman Khan spoke t...  \n",
              "18853  A 33-year-old woman was arrested for allegedly...  \n",
              "50815  Veteran actress Jaya Bachchan hosted a dinner ...  \n",
              "18806  Tanushree Dutta and her sister Ishita Dutta ha...  \n",
              "43056  DMK Acting President MK Stalin has demanded th...  \n",
              "18684  The Supreme Court on Wednesday dismissed a pet...  \n",
              "46538  A private school in Kolkata allegedly rusticat...  \n",
              "47830  Following India's first-ever series win in Sou...  \n",
              "50400  NITI Aayog CEO Amitabh Kant has said the Direc...  \n",
              "38121  Female police aspirants in Madhya Pradesh, who...  "
            ],
            "text/html": [
              "\n",
              "  <div id=\"df-bd53a2d6-c0a7-4e32-ad07-ffc96cbf6519\" class=\"colab-df-container\">\n",
              "    <div>\n",
              "<style scoped>\n",
              "    .dataframe tbody tr th:only-of-type {\n",
              "        vertical-align: middle;\n",
              "    }\n",
              "\n",
              "    .dataframe tbody tr th {\n",
              "        vertical-align: top;\n",
              "    }\n",
              "\n",
              "    .dataframe thead th {\n",
              "        text-align: right;\n",
              "    }\n",
              "</style>\n",
              "<table border=\"1\" class=\"dataframe\">\n",
              "  <thead>\n",
              "    <tr style=\"text-align: right;\">\n",
              "      <th></th>\n",
              "      <th>headlines</th>\n",
              "      <th>text</th>\n",
              "    </tr>\n",
              "  </thead>\n",
              "  <tbody>\n",
              "    <tr>\n",
              "      <th>6956</th>\n",
              "      <td>Salman Khan spoke to me about it: Sunil on wor...</td>\n",
              "      <td>Sunil Grover has said that Salman Khan spoke t...</td>\n",
              "    </tr>\n",
              "    <tr>\n",
              "      <th>18853</th>\n",
              "      <td>Maharashtra woman held for posing as cop to ex...</td>\n",
              "      <td>A 33-year-old woman was arrested for allegedly...</td>\n",
              "    </tr>\n",
              "    <tr>\n",
              "      <th>50815</th>\n",
              "      <td>Jaya hosts dinner for female nominees, winners...</td>\n",
              "      <td>Veteran actress Jaya Bachchan hosted a dinner ...</td>\n",
              "    </tr>\n",
              "    <tr>\n",
              "      <th>18806</th>\n",
              "      <td>Tanushree Dutta, sister Ishita to be in Bigg B...</td>\n",
              "      <td>Tanushree Dutta and her sister Ishita Dutta ha...</td>\n",
              "    </tr>\n",
              "    <tr>\n",
              "      <th>43056</th>\n",
              "      <td>DMK chief Stalin asks TN govt to stop VHP's Ra...</td>\n",
              "      <td>DMK Acting President MK Stalin has demanded th...</td>\n",
              "    </tr>\n",
              "    <tr>\n",
              "      <th>18684</th>\n",
              "      <td>Writer's imagination must enjoy freedom: SC sa...</td>\n",
              "      <td>The Supreme Court on Wednesday dismissed a pet...</td>\n",
              "    </tr>\n",
              "    <tr>\n",
              "      <th>46538</th>\n",
              "      <td>Student expelled after parents ask for time to...</td>\n",
              "      <td>A private school in Kolkata allegedly rusticat...</td>\n",
              "    </tr>\n",
              "    <tr>\n",
              "      <th>47830</th>\n",
              "      <td>Chahal shares 'bromance' pic with Kuldeep on V...</td>\n",
              "      <td>Following India's first-ever series win in Sou...</td>\n",
              "    </tr>\n",
              "    <tr>\n",
              "      <th>50400</th>\n",
              "      <td>Govt saved Ã¢ÂÂ¹65,000 crore through DBT sche...</td>\n",
              "      <td>NITI Aayog CEO Amitabh Kant has said the Direc...</td>\n",
              "    </tr>\n",
              "    <tr>\n",
              "      <th>38121</th>\n",
              "      <td>Were made to undergo pregnancy test: MP police...</td>\n",
              "      <td>Female police aspirants in Madhya Pradesh, who...</td>\n",
              "    </tr>\n",
              "  </tbody>\n",
              "</table>\n",
              "</div>\n",
              "    <div class=\"colab-df-buttons\">\n",
              "\n",
              "  <div class=\"colab-df-container\">\n",
              "    <button class=\"colab-df-convert\" onclick=\"convertToInteractive('df-bd53a2d6-c0a7-4e32-ad07-ffc96cbf6519')\"\n",
              "            title=\"Convert this dataframe to an interactive table.\"\n",
              "            style=\"display:none;\">\n",
              "\n",
              "  <svg xmlns=\"http://www.w3.org/2000/svg\" height=\"24px\" viewBox=\"0 -960 960 960\">\n",
              "    <path d=\"M120-120v-720h720v720H120Zm60-500h600v-160H180v160Zm220 220h160v-160H400v160Zm0 220h160v-160H400v160ZM180-400h160v-160H180v160Zm440 0h160v-160H620v160ZM180-180h160v-160H180v160Zm440 0h160v-160H620v160Z\"/>\n",
              "  </svg>\n",
              "    </button>\n",
              "\n",
              "  <style>\n",
              "    .colab-df-container {\n",
              "      display:flex;\n",
              "      gap: 12px;\n",
              "    }\n",
              "\n",
              "    .colab-df-convert {\n",
              "      background-color: #E8F0FE;\n",
              "      border: none;\n",
              "      border-radius: 50%;\n",
              "      cursor: pointer;\n",
              "      display: none;\n",
              "      fill: #1967D2;\n",
              "      height: 32px;\n",
              "      padding: 0 0 0 0;\n",
              "      width: 32px;\n",
              "    }\n",
              "\n",
              "    .colab-df-convert:hover {\n",
              "      background-color: #E2EBFA;\n",
              "      box-shadow: 0px 1px 2px rgba(60, 64, 67, 0.3), 0px 1px 3px 1px rgba(60, 64, 67, 0.15);\n",
              "      fill: #174EA6;\n",
              "    }\n",
              "\n",
              "    .colab-df-buttons div {\n",
              "      margin-bottom: 4px;\n",
              "    }\n",
              "\n",
              "    [theme=dark] .colab-df-convert {\n",
              "      background-color: #3B4455;\n",
              "      fill: #D2E3FC;\n",
              "    }\n",
              "\n",
              "    [theme=dark] .colab-df-convert:hover {\n",
              "      background-color: #434B5C;\n",
              "      box-shadow: 0px 1px 3px 1px rgba(0, 0, 0, 0.15);\n",
              "      filter: drop-shadow(0px 1px 2px rgba(0, 0, 0, 0.3));\n",
              "      fill: #FFFFFF;\n",
              "    }\n",
              "  </style>\n",
              "\n",
              "    <script>\n",
              "      const buttonEl =\n",
              "        document.querySelector('#df-bd53a2d6-c0a7-4e32-ad07-ffc96cbf6519 button.colab-df-convert');\n",
              "      buttonEl.style.display =\n",
              "        google.colab.kernel.accessAllowed ? 'block' : 'none';\n",
              "\n",
              "      async function convertToInteractive(key) {\n",
              "        const element = document.querySelector('#df-bd53a2d6-c0a7-4e32-ad07-ffc96cbf6519');\n",
              "        const dataTable =\n",
              "          await google.colab.kernel.invokeFunction('convertToInteractive',\n",
              "                                                    [key], {});\n",
              "        if (!dataTable) return;\n",
              "\n",
              "        const docLinkHtml = 'Like what you see? Visit the ' +\n",
              "          '<a target=\"_blank\" href=https://colab.research.google.com/notebooks/data_table.ipynb>data table notebook</a>'\n",
              "          + ' to learn more about interactive tables.';\n",
              "        element.innerHTML = '';\n",
              "        dataTable['output_type'] = 'display_data';\n",
              "        await google.colab.output.renderOutput(dataTable, element);\n",
              "        const docLink = document.createElement('div');\n",
              "        docLink.innerHTML = docLinkHtml;\n",
              "        element.appendChild(docLink);\n",
              "      }\n",
              "    </script>\n",
              "  </div>\n",
              "\n",
              "\n",
              "<div id=\"df-39891add-6d89-4f47-b082-d3e967f66789\">\n",
              "  <button class=\"colab-df-quickchart\" onclick=\"quickchart('df-39891add-6d89-4f47-b082-d3e967f66789')\"\n",
              "            title=\"Suggest charts\"\n",
              "            style=\"display:none;\">\n",
              "\n",
              "<svg xmlns=\"http://www.w3.org/2000/svg\" height=\"24px\"viewBox=\"0 0 24 24\"\n",
              "     width=\"24px\">\n",
              "    <g>\n",
              "        <path d=\"M19 3H5c-1.1 0-2 .9-2 2v14c0 1.1.9 2 2 2h14c1.1 0 2-.9 2-2V5c0-1.1-.9-2-2-2zM9 17H7v-7h2v7zm4 0h-2V7h2v10zm4 0h-2v-4h2v4z\"/>\n",
              "    </g>\n",
              "</svg>\n",
              "  </button>\n",
              "\n",
              "<style>\n",
              "  .colab-df-quickchart {\n",
              "      --bg-color: #E8F0FE;\n",
              "      --fill-color: #1967D2;\n",
              "      --hover-bg-color: #E2EBFA;\n",
              "      --hover-fill-color: #174EA6;\n",
              "      --disabled-fill-color: #AAA;\n",
              "      --disabled-bg-color: #DDD;\n",
              "  }\n",
              "\n",
              "  [theme=dark] .colab-df-quickchart {\n",
              "      --bg-color: #3B4455;\n",
              "      --fill-color: #D2E3FC;\n",
              "      --hover-bg-color: #434B5C;\n",
              "      --hover-fill-color: #FFFFFF;\n",
              "      --disabled-bg-color: #3B4455;\n",
              "      --disabled-fill-color: #666;\n",
              "  }\n",
              "\n",
              "  .colab-df-quickchart {\n",
              "    background-color: var(--bg-color);\n",
              "    border: none;\n",
              "    border-radius: 50%;\n",
              "    cursor: pointer;\n",
              "    display: none;\n",
              "    fill: var(--fill-color);\n",
              "    height: 32px;\n",
              "    padding: 0;\n",
              "    width: 32px;\n",
              "  }\n",
              "\n",
              "  .colab-df-quickchart:hover {\n",
              "    background-color: var(--hover-bg-color);\n",
              "    box-shadow: 0 1px 2px rgba(60, 64, 67, 0.3), 0 1px 3px 1px rgba(60, 64, 67, 0.15);\n",
              "    fill: var(--button-hover-fill-color);\n",
              "  }\n",
              "\n",
              "  .colab-df-quickchart-complete:disabled,\n",
              "  .colab-df-quickchart-complete:disabled:hover {\n",
              "    background-color: var(--disabled-bg-color);\n",
              "    fill: var(--disabled-fill-color);\n",
              "    box-shadow: none;\n",
              "  }\n",
              "\n",
              "  .colab-df-spinner {\n",
              "    border: 2px solid var(--fill-color);\n",
              "    border-color: transparent;\n",
              "    border-bottom-color: var(--fill-color);\n",
              "    animation:\n",
              "      spin 1s steps(1) infinite;\n",
              "  }\n",
              "\n",
              "  @keyframes spin {\n",
              "    0% {\n",
              "      border-color: transparent;\n",
              "      border-bottom-color: var(--fill-color);\n",
              "      border-left-color: var(--fill-color);\n",
              "    }\n",
              "    20% {\n",
              "      border-color: transparent;\n",
              "      border-left-color: var(--fill-color);\n",
              "      border-top-color: var(--fill-color);\n",
              "    }\n",
              "    30% {\n",
              "      border-color: transparent;\n",
              "      border-left-color: var(--fill-color);\n",
              "      border-top-color: var(--fill-color);\n",
              "      border-right-color: var(--fill-color);\n",
              "    }\n",
              "    40% {\n",
              "      border-color: transparent;\n",
              "      border-right-color: var(--fill-color);\n",
              "      border-top-color: var(--fill-color);\n",
              "    }\n",
              "    60% {\n",
              "      border-color: transparent;\n",
              "      border-right-color: var(--fill-color);\n",
              "    }\n",
              "    80% {\n",
              "      border-color: transparent;\n",
              "      border-right-color: var(--fill-color);\n",
              "      border-bottom-color: var(--fill-color);\n",
              "    }\n",
              "    90% {\n",
              "      border-color: transparent;\n",
              "      border-bottom-color: var(--fill-color);\n",
              "    }\n",
              "  }\n",
              "</style>\n",
              "\n",
              "  <script>\n",
              "    async function quickchart(key) {\n",
              "      const quickchartButtonEl =\n",
              "        document.querySelector('#' + key + ' button');\n",
              "      quickchartButtonEl.disabled = true;  // To prevent multiple clicks.\n",
              "      quickchartButtonEl.classList.add('colab-df-spinner');\n",
              "      try {\n",
              "        const charts = await google.colab.kernel.invokeFunction(\n",
              "            'suggestCharts', [key], {});\n",
              "      } catch (error) {\n",
              "        console.error('Error during call to suggestCharts:', error);\n",
              "      }\n",
              "      quickchartButtonEl.classList.remove('colab-df-spinner');\n",
              "      quickchartButtonEl.classList.add('colab-df-quickchart-complete');\n",
              "    }\n",
              "    (() => {\n",
              "      let quickchartButtonEl =\n",
              "        document.querySelector('#df-39891add-6d89-4f47-b082-d3e967f66789 button');\n",
              "      quickchartButtonEl.style.display =\n",
              "        google.colab.kernel.accessAllowed ? 'block' : 'none';\n",
              "    })();\n",
              "  </script>\n",
              "</div>\n",
              "    </div>\n",
              "  </div>\n"
            ]
          },
          "metadata": {},
          "execution_count": 9
        }
      ]
    },
    {
      "cell_type": "code",
      "source": [
        "# from transformers import BartTokenizer, BartForConditionalGeneration\n",
        "\n",
        "# # 모델과 토크나이저 초기화\n",
        "# model_name = 'facebook/bart-large-cnn'  # 요약에 적합한 BART 모델\n",
        "# tokenizer = BartTokenizer.from_pretrained(model_name)\n",
        "# model = BartForConditionalGeneration.from_pretrained(model_name)\n",
        "\n",
        "# def generate_summary(text):\n",
        "#     # 텍스트를 토큰으로 인코딩하고 요약 생성\n",
        "#     inputs = tokenizer([text], max_length=200, return_tensors='pt', truncation=True)\n",
        "#     summary_ids = model.generate(inputs['input_ids'], num_beams=4, max_length=150, early_stopping=True)\n",
        "#     return tokenizer.decode(summary_ids[0], skip_special_tokens=True)\n",
        "\n",
        "# 데이터셋의 각 텍스트에 대해 요약 생성\n",
        "# data['generated_summary'] = data_test['text'].apply(generate_summary)"
      ],
      "metadata": {
        "id": "ass6abn3U3qS"
      },
      "execution_count": 16,
      "outputs": []
    },
    {
      "cell_type": "code",
      "source": [
        "# 연산이 오래 걸려서 샘플링으로 축소\n",
        "from transformers import BartTokenizer, BartForConditionalGeneration\n",
        "\n",
        "# 모델과 토크나이저 초기화\n",
        "model_name = 'facebook/bart-large-cnn'  # 요약에 적합한 BART 모델\n",
        "tokenizer = BartTokenizer.from_pretrained(model_name)\n",
        "model = BartForConditionalGeneration.from_pretrained(model_name)\n",
        "\n",
        "# min_length=30, length_penalty=2.0 최소설정, 페널티 부과 (max_length에 가깝게 도움)\n",
        "def generate_summary(text):\n",
        "    inputs = tokenizer(text, return_tensors='pt', max_length=150, truncation=True, padding=\"max_length\")\n",
        "    summary_ids = model.generate(inputs['input_ids'], num_beams=4, max_length=30, min_length=30, length_penalty=2.0, early_stopping=True)\n",
        "    return [tokenizer.decode(g, skip_special_tokens=True, clean_up_tokenization_spaces=False) for g in summary_ids]\n",
        "# 데이터셋의 각 텍스트에 대해 요약 생성\n"
      ],
      "metadata": {
        "id": "K1XQ33pCDcEY"
      },
      "execution_count": 22,
      "outputs": []
    },
    {
      "cell_type": "code",
      "source": [
        "# 데이터셋에서 일부분만 가져와서 요약 생성 (예: 처음 10개)\n",
        "sample_data = data_test['text'][:10].tolist()\n",
        "summaries = generate_summary(sample_data)"
      ],
      "metadata": {
        "colab": {
          "base_uri": "https://localhost:8080/"
        },
        "id": "rURsiDIe0aGj",
        "outputId": "9b5fcb2e-2004-49b3-facc-ae8afeb3651f"
      },
      "execution_count": 17,
      "outputs": [
        {
          "output_type": "stream",
          "name": "stderr",
          "text": [
            "/usr/local/lib/python3.10/dist-packages/transformers/generation/utils.py:1298: UserWarning: Unfeasible length constraints: `min_length` (56) is larger than the maximum possible length (50). Generation will stop at the defined maximum length. You should decrease the minimum length and/or increase the maximum length.\n",
            "  warnings.warn(\n"
          ]
        }
      ]
    },
    {
      "cell_type": "code",
      "source": [
        "# 생성된 요약문을 데이터 프레임에 저장하고 출력\n",
        "for i, summary in enumerate(summaries):\n",
        "    print(f\"원본 내용 {i+1}: {sample_data[i]}\")\n",
        "    print(f\"생성된 요약 {i+1}: {summary}\\n\")"
      ],
      "metadata": {
        "colab": {
          "base_uri": "https://localhost:8080/"
        },
        "id": "coNqEiJF5H9h",
        "outputId": "6563d574-1b3b-4bf2-f68d-21f5fce5e177"
      },
      "execution_count": 18,
      "outputs": [
        {
          "output_type": "stream",
          "name": "stdout",
          "text": [
            "원본 내용 1: Saurav Kant, an alumnus of upGrad and IIIT-B's PG Program in Machine learning and Artificial Intelligence, was a Sr Systems Engineer at Infosys with almost 5 years of work experience. The program and upGrad's 360-degree career support helped him transition to a Data Scientist at Tech Mahindra with 90% salary hike. upGrad's Online Power Learning has powered 3 lakh+ careers.\n",
            "생성된 요약 1: Saurav Kant, an alumnus of upGrad and IIIT-B's PG Program in Machine learning and Artificial Intelligence, was a Sr Systems Engineer at Infosys. The program and upGrad's 360-degree career\n",
            "\n",
            "원본 내용 2: Kunal Shah's credit card bill payment platform, CRED, gave users a chance to win free food from Swiggy for one year. Pranav Kaushik, a Delhi techie, bagged this reward after spending 2000 CRED coins. Users get one CRED coin per rupee of bill paid, which can be used to avail rewards from brands like Ixigo, BookMyShow, UberEats, Cult.Fit and more.\n",
            "생성된 요약 2: Kunal Shah's credit card bill payment platform, CRED, gave users a chance to win free food from Swiggy for one year. Pranav Kaushik, a Delhi techie, bagged this reward after spending\n",
            "\n",
            "원본 내용 3: New Zealand defeated India by 8 wickets in the fourth ODI at Hamilton on Thursday to win their first match of the five-match ODI series. India lost an international match under Rohit Sharma's captaincy after 12 consecutive victories dating back to March 2018. The match witnessed India getting all out for 92, their seventh lowest total in ODI cricket history.\n",
            "생성된 요약 3: New Zealand defeated India by 8 wickets in the fourth ODI at Hamilton. India lost an international match under Rohit Sharma's captaincy after 12 consecutive victories dating back to March 2018. The match witnessed India getting all out for 92\n",
            "\n",
            "원본 내용 4: With Aegon Life iTerm Insurance plan, customers can enjoy tax benefits on your premiums paid and save up to Ã¢ÂÂ¹46,800^ on taxes. The plan provides life cover up to the age of 100 years. Also, customers have options to insure against Critical Illnesses, Disability and Accidental Death Benefit Rider with a life cover up to the age of 80 years.\n",
            "생성된 요약 4: With Aegon Life iTerm Insurance plan, customers can enjoy tax benefits on your premiums paid. The plan provides life cover up to the age of 100 years. Customers have options to insure against Critical Illnesses, Disability and Accidental Death\n",
            "\n",
            "원본 내용 5: Speaking about the sexual harassment allegations against Rajkumar Hirani, Sonam Kapoor said, \"I've known Hirani for many years...What if it's not true, the [#MeToo] movement will get derailed.\" \"In the #MeToo movement, I always believe a woman. But in this case, we need to reserve our judgment,\" she added. Hirani has been accused by an assistant who worked in 'Sanju'.\n",
            "생성된 요약 5: Rajkumar Hirani has been accused by an assistant who worked in 'Sanju' Sonam Kapoor said, \"I've known Hirani for many years...What if it's not true, the [#MeToo\n",
            "\n",
            "원본 내용 6: Pakistani singer Rahat Fateh Ali Khan has denied receiving any notice from the Enforcement Directorate over allegedly smuggling foreign currency out of India. \"It would have been better if the authorities would have served the notice first if any and then publicised this,\" reads a press release issued on behalf of Rahat. The statement further called the allegation \"bizarre\".\n",
            "생성된 요약 6: Pakistani singer Rahat Fateh Ali Khan has denied receiving any notice from the Enforcement Directorate over allegedly smuggling foreign currency out of India. \"It would have been better if the authorities would have served the notice first if any and then public\n",
            "\n",
            "원본 내용 7: India recorded their lowest ODI total in New Zealand after getting all out for 92 runs in 30.5 overs in the fourth ODI at Hamilton on Thursday. Seven of India's batsmen were dismissed for single-digit scores, while their number ten batsman Yuzvendra Chahal top-scored with 18*(37). India's previous lowest ODI total in New Zealand was 108.\n",
            "생성된 요약 7: India recorded their lowest ODI total in New Zealand after getting all out for 92. Seven of India's batsmen were dismissed for single-digit scores. Yuzvendra Chahal top-scored with 18*(37\n",
            "\n",
            "원본 내용 8: Weeks after ex-CBI Director Alok Verma told the Department of Personnel and Training to consider him retired, the Home Ministry asked him to join work on the last day of his fixed tenure as Director on Thursday. The ministry directed him to immediately join as DG, Fire Services, the post he was transferred to after his removal as CBI chief.\n",
            "생성된 요약 8: The Home Ministry asked him to join work on the last day of his fixed tenure as Director on Thursday. The ministry directed him to immediately join as DG, Fire Services, the post he was transferred to after his removal as CBI chief.\n",
            "\n",
            "원본 내용 9: Andhra Pradesh CM N Chandrababu Naidu has said, \"When I met then US President Bill Clinton, I addressed him as Mr Clinton, not as 'sir'. (PM Narendra) Modi is my junior in politics...I addressed him as sir 10 times.\" \"I did this...to satisfy his ego in the hope that he will do justice to the state,\" he added.\n",
            "생성된 요약 9: Andhra Pradesh CM N Chandrababu Naidu has said, \"When I met then US President Bill Clinton, I addressed him as Mr Clinton, not as 'sir' (PM Narendra) Modi is my junior in\n",
            "\n",
            "원본 내용 10: Congress candidate Shafia Zubair won the Ramgarh Assembly seat in Rajasthan, by defeating BJP's Sukhwant Singh with a margin of 12,228 votes in the bypoll. With this victory, Congress has taken its total to 100 seats in the 200-member assembly. The election to the Ramgarh seat was delayed due to the death of sitting MLA and BSP candidate Laxman Singh.\n",
            "생성된 요약 10: Congress candidate Shafia Zubair won the Ramgarh Assembly seat in Rajasthan, by defeating BJP's Sukhwant Singh with a margin of 12,228 votes. With this victory, Congress has taken its total to 100 seats\n",
            "\n"
          ]
        }
      ]
    },
    {
      "cell_type": "code",
      "source": [
        "# 성능 테스트 겸 LSTM, Attention에서 사용한 텍스트 샘플\n",
        "long_text = \"\"\"\n",
        "New Zealand defeated India by 8 wickets in the fourth ODI at Hamilton on Thursday to win their first match of the five-match ODI series. India lost an international match under Rohit Sharma's captaincy after 12 consecutive victories dating back to March 2018. The match witnessed India getting all out for 92, their seventh lowest total in ODI cricket history.\n",
        "\"\"\"\n",
        "print(generate_summary(long_text))\n",
        "# ratio=0.4 하이퍼 파라미터는 나중에 함수에 추가해서 해보자. 런타임 오래걸려..ㅠ\n"
      ],
      "metadata": {
        "colab": {
          "base_uri": "https://localhost:8080/"
        },
        "id": "pOj2W-iFAaoc",
        "outputId": "6184eb63-937e-47a1-8fbd-766998b52c1c"
      },
      "execution_count": 23,
      "outputs": [
        {
          "output_type": "stream",
          "name": "stdout",
          "text": [
            "[\"New Zealand defeated India by 8 wickets in the fourth ODI at Hamilton. India lost an international match under Rohit Sharma's captain\"]\n"
          ]
        }
      ]
    },
    {
      "cell_type": "markdown",
      "source": [
        "# 성능 비교 (Bert vs Summa summary)\n",
        "본문 번역 : 뉴질랜드는 목요일 해밀턴에서 열린 네 번째 ODI에서 인도를 8위켓으로 꺾고 5경기 ODI 시리즈의 첫 경기에서 승리했습니다. 인도는 2018년 3월부터 12연승을 거둔 후 Rohit Sharma의 주장 아래 국제 경기에서 패했습니다. 이 경기에서 인도는 ODI 크리켓 역사상 7번째로 낮은 합계인 92점을 기록했습니다.\n",
        "\n",
        "---\n",
        "# summma\n",
        "1. 요약\\\n",
        "Later Try..\n",
        "\n",
        "---\n",
        "# Bert (pre-trained model)\n",
        "\n",
        "1. 요약 \\\n",
        "번역 : [\"뉴질랜드는 해밀턴에서 열린 네 번째 ODI에서 인도를 8위켓으로 이겼습니다. 인도는 2018년 3월부터 12연승을 거둔 후 Rohit Sharma의 주장 아래 국제 경기에서 패했습니다. 이 경기에서 인도는 92점을 기록했습니다.\"]\n",
        "\n",
        "2. 요약 (max_length 30, min, penalty)\\\n",
        "번역 : [\"뉴질랜드는 해밀턴에서 열린 네 번째 ODI에서 인도를 8위켓으로 이겼습니다. 인도는 Rohit Sharma의 주장이 이끄는 국제 경기에서 패했습니다.\"]"
      ],
      "metadata": {
        "id": "qG8Wpl1FBYoZ"
      }
    }
  ]
}